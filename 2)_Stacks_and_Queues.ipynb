{
  "nbformat": 4,
  "nbformat_minor": 0,
  "metadata": {
    "colab": {
      "provenance": [],
      "authorship_tag": "ABX9TyOGWFd+aKPntms+ka9kVD/O",
      "include_colab_link": true
    },
    "kernelspec": {
      "name": "python3",
      "display_name": "Python 3"
    },
    "language_info": {
      "name": "python"
    }
  },
  "cells": [
    {
      "cell_type": "markdown",
      "metadata": {
        "id": "view-in-github",
        "colab_type": "text"
      },
      "source": [
        "<a href=\"https://colab.research.google.com/github/taylorec/Data-Structures-and-Algorithms-with-Python/blob/main/2)_Stacks_and_Queues.ipynb\" target=\"_parent\"><img src=\"https://colab.research.google.com/assets/colab-badge.svg\" alt=\"Open In Colab\"/></a>"
      ]
    },
    {
      "cell_type": "markdown",
      "source": [
        "# Stacks\n",
        "\n",
        " Stacks are a last in, first out (LIFO) data structure. When an element is added to the top of the stack, it is pushed onto the stack. When an element is taken off the top of the stack, it is popped off the stack."
      ],
      "metadata": {
        "id": "MJk-_yrSE3VL"
      }
    },
    {
      "cell_type": "code",
      "execution_count": null,
      "metadata": {
        "id": "kx2uQFO_D9or"
      },
      "outputs": [],
      "source": [
        "class Node:\n",
        "    def __init__(self, data=None):\n",
        "        self.data = data\n",
        "        self.next = None"
      ]
    },
    {
      "cell_type": "code",
      "source": [
        "class Stack:\n",
        "    def __init__(self):\n",
        "        self.top = None\n",
        "        self.size = 0\n",
        "\n",
        "    def push(self, data):\n",
        "        node = Node(data)\n",
        "        if self.top:\n",
        "            node.next = self.top\n",
        "            self.top = node\n",
        "        else:\n",
        "            self.top = node\n",
        "        self.size += 1\n",
        "\n",
        "    def pop(self):\n",
        "        if self.top:\n",
        "            data = self.top.data\n",
        "            self.size -= 1\n",
        "            if self.top.next:\n",
        "                self.top = self.top.next\n",
        "            else:\n",
        "                self.top = None\n",
        "            return data\n",
        "        else:\n",
        "            return None\n",
        "\n",
        "    def peek(self):\n",
        "        if self.top:\n",
        "            return self.top.data\n",
        "        else:\n",
        "            return None"
      ],
      "metadata": {
        "id": "AEO6LD_8JCJ9"
      },
      "execution_count": null,
      "outputs": []
    },
    {
      "cell_type": "code",
      "source": [
        "stack1 = Stack()"
      ],
      "metadata": {
        "id": "dK55vSL5Pf0n"
      },
      "execution_count": null,
      "outputs": []
    },
    {
      "cell_type": "code",
      "source": [
        "stack1.push('Cheese')\n",
        "stack1.push('Ham')\n",
        "stack1.push('Carrots')\n",
        "stack1.push('Spam')\n",
        "stack1.size"
      ],
      "metadata": {
        "colab": {
          "base_uri": "https://localhost:8080/"
        },
        "id": "oWRYeHUtP9mu",
        "outputId": "5141115f-ce99-4966-9c71-a581d9418577"
      },
      "execution_count": null,
      "outputs": [
        {
          "output_type": "execute_result",
          "data": {
            "text/plain": [
              "4"
            ]
          },
          "metadata": {},
          "execution_count": 4
        }
      ]
    },
    {
      "cell_type": "code",
      "source": [
        "stack1.peek()"
      ],
      "metadata": {
        "colab": {
          "base_uri": "https://localhost:8080/"
        },
        "id": "YaPTPXd9QSOu",
        "outputId": "688f0481-beb2-4dc5-d438-189546076415"
      },
      "execution_count": null,
      "outputs": [
        {
          "output_type": "execute_result",
          "data": {
            "text/plain": [
              "'Spam'"
            ],
            "application/vnd.google.colaboratory.intrinsic+json": {
              "type": "string"
            }
          },
          "metadata": {},
          "execution_count": 5
        }
      ]
    },
    {
      "cell_type": "code",
      "source": [
        "stack1.pop()"
      ],
      "metadata": {
        "colab": {
          "base_uri": "https://localhost:8080/"
        },
        "id": "aPRFUm1SQYl-",
        "outputId": "003a8805-483d-4ca5-ff77-e429588aae31"
      },
      "execution_count": null,
      "outputs": [
        {
          "output_type": "execute_result",
          "data": {
            "text/plain": [
              "'Spam'"
            ],
            "application/vnd.google.colaboratory.intrinsic+json": {
              "type": "string"
            }
          },
          "metadata": {},
          "execution_count": 6
        }
      ]
    },
    {
      "cell_type": "code",
      "source": [
        "stack1.size"
      ],
      "metadata": {
        "colab": {
          "base_uri": "https://localhost:8080/"
        },
        "id": "p4aBwZzgQd0U",
        "outputId": "067ee21e-296b-4cba-8230-113aa3e1ebfb"
      },
      "execution_count": null,
      "outputs": [
        {
          "output_type": "execute_result",
          "data": {
            "text/plain": [
              "3"
            ]
          },
          "metadata": {},
          "execution_count": 7
        }
      ]
    },
    {
      "cell_type": "code",
      "source": [
        "stack1.pop()"
      ],
      "metadata": {
        "colab": {
          "base_uri": "https://localhost:8080/"
        },
        "id": "OUZRXb5hQjKs",
        "outputId": "3f46e5d6-e10d-4553-fa5b-672637c16eb6"
      },
      "execution_count": null,
      "outputs": [
        {
          "output_type": "execute_result",
          "data": {
            "text/plain": [
              "'Carrots'"
            ],
            "application/vnd.google.colaboratory.intrinsic+json": {
              "type": "string"
            }
          },
          "metadata": {},
          "execution_count": 8
        }
      ]
    },
    {
      "cell_type": "code",
      "source": [
        "stack1.size"
      ],
      "metadata": {
        "colab": {
          "base_uri": "https://localhost:8080/"
        },
        "id": "M3D3kdKZQkz-",
        "outputId": "452e1220-38bc-438f-b1f2-b887a0e2d7da"
      },
      "execution_count": null,
      "outputs": [
        {
          "output_type": "execute_result",
          "data": {
            "text/plain": [
              "2"
            ]
          },
          "metadata": {},
          "execution_count": 9
        }
      ]
    },
    {
      "cell_type": "code",
      "source": [
        "stack1.peek()"
      ],
      "metadata": {
        "colab": {
          "base_uri": "https://localhost:8080/"
        },
        "id": "sRfLZfgoQqO_",
        "outputId": "d1ddc2ca-5990-4307-90ff-fd48c146b9c5"
      },
      "execution_count": null,
      "outputs": [
        {
          "output_type": "execute_result",
          "data": {
            "text/plain": [
              "'Ham'"
            ],
            "application/vnd.google.colaboratory.intrinsic+json": {
              "type": "string"
            }
          },
          "metadata": {},
          "execution_count": 10
        }
      ]
    },
    {
      "cell_type": "markdown",
      "source": [
        "# Queues\n",
        "\n",
        "\n",
        "\n",
        "Queues are a first in, first out (FIFO) data structure. Anytime an element is enqueued, the length or size of the queue increases by one. Conversely, dequeuing items reduce the number of elements in the queue by one."
      ],
      "metadata": {
        "id": "PKrT--fnNr1e"
      }
    },
    {
      "cell_type": "code",
      "source": [
        "class Queue:\n",
        "    def __init__(self):\n",
        "        self.inbound_stack = []\n",
        "        self.outbound_stack = []\n",
        "\n",
        "    def dequeue(self):\n",
        "        if not self.outbound_stack:\n",
        "            while self.inbound_stack:\n",
        "                self.outbound_stack.append(self.inbound_stack.pop())\n",
        "        return self.outbound_stack.pop()\n",
        "\n",
        "    def enqueue(self, data):\n",
        "        self.inbound_stack.append(data)"
      ],
      "metadata": {
        "id": "PW9SNH-qQXBK"
      },
      "execution_count": null,
      "outputs": []
    },
    {
      "cell_type": "code",
      "source": [
        "queue1 = Queue()"
      ],
      "metadata": {
        "id": "MUNPyFGpMCYZ"
      },
      "execution_count": null,
      "outputs": []
    },
    {
      "cell_type": "code",
      "source": [
        "queue1.enqueue('Tennis')"
      ],
      "metadata": {
        "id": "q317csaxeFaT"
      },
      "execution_count": null,
      "outputs": []
    },
    {
      "cell_type": "code",
      "source": [
        "queue1.enqueue('Baseball')"
      ],
      "metadata": {
        "id": "mKAxdc_iePMU"
      },
      "execution_count": null,
      "outputs": []
    },
    {
      "cell_type": "code",
      "source": [
        "queue1.enqueue('Football')"
      ],
      "metadata": {
        "id": "XPjGSEAGeTai"
      },
      "execution_count": null,
      "outputs": []
    },
    {
      "cell_type": "code",
      "source": [
        "queue1.dequeue()"
      ],
      "metadata": {
        "colab": {
          "base_uri": "https://localhost:8080/"
        },
        "id": "zN5uhEBeebIy",
        "outputId": "3357268d-b9f5-4b5b-e686-0ea3524f6e15"
      },
      "execution_count": null,
      "outputs": [
        {
          "output_type": "execute_result",
          "data": {
            "text/plain": [
              "'Tennis'"
            ],
            "application/vnd.google.colaboratory.intrinsic+json": {
              "type": "string"
            }
          },
          "metadata": {},
          "execution_count": 16
        }
      ]
    },
    {
      "cell_type": "code",
      "source": [
        "queue1.enqueue('Golf')"
      ],
      "metadata": {
        "id": "yYHDAF0XeezP"
      },
      "execution_count": null,
      "outputs": []
    },
    {
      "cell_type": "code",
      "source": [
        "queue1.dequeue()"
      ],
      "metadata": {
        "colab": {
          "base_uri": "https://localhost:8080/"
        },
        "id": "ga1uAPS9e9Kd",
        "outputId": "a60b66b4-dba7-492d-c403-7ece3531fb93"
      },
      "execution_count": null,
      "outputs": [
        {
          "output_type": "execute_result",
          "data": {
            "text/plain": [
              "'Baseball'"
            ],
            "application/vnd.google.colaboratory.intrinsic+json": {
              "type": "string"
            }
          },
          "metadata": {},
          "execution_count": 18
        }
      ]
    },
    {
      "cell_type": "code",
      "source": [],
      "metadata": {
        "id": "-P25-iSafB0g"
      },
      "execution_count": null,
      "outputs": []
    }
  ]
}