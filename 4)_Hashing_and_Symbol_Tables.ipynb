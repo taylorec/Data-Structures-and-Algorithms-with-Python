{
  "nbformat": 4,
  "nbformat_minor": 0,
  "metadata": {
    "colab": {
      "provenance": [],
      "authorship_tag": "ABX9TyMRCma4YRwZ+fwp0Q3ubBVY",
      "include_colab_link": true
    },
    "kernelspec": {
      "name": "python3",
      "display_name": "Python 3"
    },
    "language_info": {
      "name": "python"
    }
  },
  "cells": [
    {
      "cell_type": "markdown",
      "metadata": {
        "id": "view-in-github",
        "colab_type": "text"
      },
      "source": [
        "<a href=\"https://colab.research.google.com/github/taylorec/Data-Structures-and-Algorithms-with-Python/blob/main/4)_Hashing_and_Symbol_Tables.ipynb\" target=\"_parent\"><img src=\"https://colab.research.google.com/assets/colab-badge.svg\" alt=\"Open In Colab\"/></a>"
      ]
    },
    {
      "cell_type": "markdown",
      "source": [
        "Dictionaries use a keyword instead of an index number and are often built using hash tables. Hash tables rely on a concept called hashing, the concept of converting data of arbitrary size into data of fixed size."
      ],
      "metadata": {
        "id": "SMqFcGX8tOvH"
      }
    },
    {
      "cell_type": "code",
      "source": [
        "class HashItem:\n",
        "    def __init__(self, key, value):\n",
        "        self.key = key\n",
        "        self.value = value"
      ],
      "metadata": {
        "id": "hACFyBm9tkG6"
      },
      "execution_count": null,
      "outputs": []
    },
    {
      "cell_type": "code",
      "source": [
        "class HashTable:\n",
        "    def __init__(self):\n",
        "        self.size = 256\n",
        "        self.slots = [None for i in range(self.size)]\n",
        "        self.count = 0\n",
        "\n",
        "    def _hash(self, key):\n",
        "        mult = 1\n",
        "        hv = 0\n",
        "        for ch in key:\n",
        "            hv += mult * ord(ch)\n",
        "            mult += 1\n",
        "        return hv % self.size\n",
        "\n",
        "    def put(self, key, value):\n",
        "        item = HashItem(key, value)\n",
        "        h = self._hash(key)\n",
        "\n",
        "        while self.slots[h] is not None:\n",
        "            if self.slots[h].key is key:\n",
        "                break\n",
        "            h = (h + 1) % self.size\n",
        "        if self.slots[h] is None:\n",
        "            self.count += 1\n",
        "        self.slots[h] = item\n",
        "\n",
        "    def get(self, key):\n",
        "        h = self._hash(key)\n",
        "        while self.slots[h] is not None:\n",
        "            if self.slots[h].key is key:\n",
        "                return self.slots[h].value\n",
        "            h = (h+ 1) % self.size\n",
        "        return None\n",
        "\n",
        "    def __setitem__(self, key, value):\n",
        "        self.put(key, value)\n",
        "\n",
        "    def __getitem__(self, key):\n",
        "        return self.get(key)"
      ],
      "metadata": {
        "id": "e8D0gDlZ1c7_"
      },
      "execution_count": null,
      "outputs": []
    },
    {
      "cell_type": "code",
      "source": [
        "ht = HashTable()\n",
        "ht[\"good\"] = \"eggs\"\n",
        "ht[\"better\"] = \"ham\"\n",
        "ht[\"best\"] = \"spam\"\n",
        "ht[\"ad\"] = \"do not\"\n",
        "ht[\"ga\"] = \"collide\""
      ],
      "metadata": {
        "id": "V1Acsw4R1nKP"
      },
      "execution_count": null,
      "outputs": []
    },
    {
      "cell_type": "code",
      "source": [
        "for key in (\"good\", \"better\", \"best\", \"worst\", \"ad\", \"ga\"):\n",
        "    v = ht[key]\n",
        "    print(v)"
      ],
      "metadata": {
        "colab": {
          "base_uri": "https://localhost:8080/"
        },
        "id": "kTgYSy3S1ryM",
        "outputId": "e95f5561-cbce-491d-fef5-197f4623e561"
      },
      "execution_count": null,
      "outputs": [
        {
          "output_type": "stream",
          "name": "stdout",
          "text": [
            "eggs\n",
            "ham\n",
            "spam\n",
            "None\n",
            "do not\n",
            "collide\n"
          ]
        }
      ]
    },
    {
      "cell_type": "code",
      "source": [
        "print(\"The number of elements is: {}\".format(ht.count))"
      ],
      "metadata": {
        "colab": {
          "base_uri": "https://localhost:8080/"
        },
        "id": "UaZAmsp51svv",
        "outputId": "9cfa214c-5ca5-487c-e01a-629e0e3e47e4"
      },
      "execution_count": null,
      "outputs": [
        {
          "output_type": "stream",
          "name": "stdout",
          "text": [
            "The number of elements is: 5\n"
          ]
        }
      ]
    },
    {
      "cell_type": "code",
      "source": [
        "for key in (\"good\", \"better\", \"best\", \"worst\", \"ad\", \"ga\"):\n",
        "    k = sum(map(ord, key))\n",
        "    print(key,':', k)\n",
        "    v = ht[key]\n",
        "    print(v, ':', sum(map(ord, str(v))))\n",
        "    print('/n')"
      ],
      "metadata": {
        "colab": {
          "base_uri": "https://localhost:8080/"
        },
        "id": "_ys0XRfj1wXN",
        "outputId": "4ddfaae4-bdf3-45f5-d49d-9f99ca250a39"
      },
      "execution_count": null,
      "outputs": [
        {
          "output_type": "stream",
          "name": "stdout",
          "text": [
            "good : 425\n",
            "eggs : 422\n",
            "/n\n",
            "better : 646\n",
            "ham : 310\n",
            "/n\n",
            "best : 430\n",
            "spam : 433\n",
            "/n\n",
            "worst : 575\n",
            "None : 400\n",
            "/n\n",
            "ad : 197\n",
            "do not : 580\n",
            "/n\n",
            "ga : 200\n",
            "collide : 732\n",
            "/n\n"
          ]
        }
      ]
    },
    {
      "cell_type": "code",
      "source": [],
      "metadata": {
        "id": "8yKuQD3q2BNa"
      },
      "execution_count": null,
      "outputs": []
    }
  ]
}