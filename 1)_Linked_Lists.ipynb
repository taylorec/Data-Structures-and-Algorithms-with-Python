{
  "nbformat": 4,
  "nbformat_minor": 0,
  "metadata": {
    "colab": {
      "provenance": [],
      "authorship_tag": "ABX9TyMFqZ0+o8dXZP9QVueIlEhC",
      "include_colab_link": true
    },
    "kernelspec": {
      "name": "python3",
      "display_name": "Python 3"
    },
    "language_info": {
      "name": "python"
    }
  },
  "cells": [
    {
      "cell_type": "markdown",
      "metadata": {
        "id": "view-in-github",
        "colab_type": "text"
      },
      "source": [
        "<a href=\"https://colab.research.google.com/github/taylorec/Data-Structures-and-Algorithms-with-Python/blob/main/1)_Linked_Lists.ipynb\" target=\"_parent\"><img src=\"https://colab.research.google.com/assets/colab-badge.svg\" alt=\"Open In Colab\"/></a>"
      ]
    },
    {
      "cell_type": "markdown",
      "source": [
        "### Nodes\n",
        "\n",
        "A node is a key component of several data structures such as linked lists. A node is a container of data, together with one or more links to other nodes where a link is a pointer."
      ],
      "metadata": {
        "id": "f3WzU2dUzn57"
      }
    },
    {
      "cell_type": "code",
      "source": [
        "class Node:\n",
        "    \"\"\" A singly-linked node. \"\"\"\n",
        "    def __init__(self, data=None):\n",
        "        self.data = data\n",
        "        self.next = None"
      ],
      "metadata": {
        "id": "oJwMkCpozshg"
      },
      "execution_count": null,
      "outputs": []
    },
    {
      "cell_type": "markdown",
      "source": [
        "### Singly linked lists\n",
        "\n",
        "A linked  list contains a number of nodes in which each node contains data  and a pointer that links to the next node.\n",
        "A singly linked list is a list with only one pointer between two successive nodes. It can only be traversed in a single direction, that is, you can go from the first node in the list to the last node, but you cannot move from the last node to the first node. The link of the last node in the list is None, which indicates the end of the list.\n",
        "\n",
        "![image.png](data:image/png;base64,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)"
      ],
      "metadata": {
        "id": "773CYzXj0CAU"
      }
    },
    {
      "cell_type": "code",
      "source": [
        "class SinglyLinkedList:\n",
        "    \"\"\" A singly-linked list. \"\"\"\n",
        "    def __init__(self):\n",
        "        \"\"\" Create an empty list. \"\"\"\n",
        "        self.tail = None\n",
        "        self.head = None\n",
        "        self.count = 0\n",
        "\n",
        "    def iter(self):\n",
        "        \"\"\" Iterate through the list. \"\"\"\n",
        "        current = self.tail\n",
        "        while current:\n",
        "            val = current.data\n",
        "            current = current.next\n",
        "            yield val\n",
        "\n",
        "    def append(self, data):\n",
        "        \"\"\" Append an item to the list \"\"\"\n",
        "        node = Node(data)\n",
        "        if self.head:\n",
        "            self.head.next = node\n",
        "            self.head = node\n",
        "        else:\n",
        "            self.tail = node\n",
        "            self.head = node\n",
        "        self.count += 1\n",
        "\n",
        "    def delete(self, data):\n",
        "        \"\"\" Delete a node from the list \"\"\"\n",
        "        current = self.tail\n",
        "        prev = self.tail\n",
        "        while current:\n",
        "            if current.data == data:\n",
        "                if current == self.tail:\n",
        "                    self.tail = current.next\n",
        "                else:\n",
        "                    prev.next = current.next\n",
        "                self.count -= 1\n",
        "                return\n",
        "            prev = current\n",
        "            current = current.next\n",
        "\n",
        "    def search(self, data):\n",
        "        \"\"\" Search through the list. Return True if data is found, otherwise\n",
        "        False. \"\"\"\n",
        "        for node in self.iter():\n",
        "            if data == node:\n",
        "                return True\n",
        "        return False\n",
        "\n",
        "    def __getitem__(self, index):\n",
        "        if index > self.count - 1:\n",
        "            raise Exception(\"Index out of range.\")\n",
        "        current = self.tail\n",
        "        for n in range(index):\n",
        "            current = current.next\n",
        "        return current.data\n",
        "\n",
        "    def __setitem__(self, index, value):\n",
        "        if index > self.count - 1:\n",
        "            raise Exception(\"Index out of range.\")\n",
        "        current = self.tail\n",
        "        for n in range(index):\n",
        "            current = current.next\n",
        "        current.data = value"
      ],
      "metadata": {
        "id": "_BosJzWG0idN"
      },
      "execution_count": null,
      "outputs": []
    },
    {
      "cell_type": "code",
      "source": [
        "words = SinglyLinkedList()\n",
        "words.append('egg')\n",
        "words.append('ham')\n",
        "words.append('spam')\n",
        "words.append('foo')\n",
        "words.append('bar')\n",
        "words.append('bim')\n",
        "words.append('baz')\n",
        "words.append('quux')"
      ],
      "metadata": {
        "id": "R1nFUYsx7vOZ"
      },
      "execution_count": null,
      "outputs": []
    },
    {
      "cell_type": "code",
      "source": [
        "print(\"This list has {} elements.\".format(words.count))\n",
        "for word in words.iter():\n",
        "    print(\"Got this data: {}\".format(word))"
      ],
      "metadata": {
        "colab": {
          "base_uri": "https://localhost:8080/"
        },
        "id": "4b9uhKnk_MS9",
        "outputId": "a5e6df5c-246d-403a-b69a-f28e0b5a1036"
      },
      "execution_count": null,
      "outputs": [
        {
          "output_type": "stream",
          "name": "stdout",
          "text": [
            "This list has 8 elements.\n",
            "Got this data: egg\n",
            "Got this data: ham\n",
            "Got this data: spam\n",
            "Got this data: foo\n",
            "Got this data: bar\n",
            "Got this data: bim\n",
            "Got this data: baz\n",
            "Got this data: quux\n"
          ]
        }
      ]
    },
    {
      "cell_type": "code",
      "source": [
        "print(\"access by index\")\n",
        "print(\"here is a node: {}\".format(words[1]))"
      ],
      "metadata": {
        "colab": {
          "base_uri": "https://localhost:8080/"
        },
        "id": "RrEHkHjJ8vYl",
        "outputId": "f830e806-401b-4443-ba11-e30aab2ed505"
      },
      "execution_count": null,
      "outputs": [
        {
          "output_type": "stream",
          "name": "stdout",
          "text": [
            "access by index\n",
            "here is a node: ham\n"
          ]
        }
      ]
    },
    {
      "cell_type": "code",
      "source": [
        "print(\"modify by index\")\n",
        "words[4] = \"Quux\"\n",
        "print(\"Modified node by index: {}\".format(words[4]))"
      ],
      "metadata": {
        "colab": {
          "base_uri": "https://localhost:8080/"
        },
        "id": "w_gdaBaq805o",
        "outputId": "b2d0b0b8-85dd-4cb0-d2ae-d9a96ed161e6"
      },
      "execution_count": null,
      "outputs": [
        {
          "output_type": "stream",
          "name": "stdout",
          "text": [
            "modify by index\n",
            "Modified node by index: Quux\n"
          ]
        }
      ]
    },
    {
      "cell_type": "code",
      "source": [
        "print(\"This list has {} elements.\".format(words.count))\n",
        "for word in words.iter():\n",
        "    print(\"Got this data: {}\".format(word))"
      ],
      "metadata": {
        "colab": {
          "base_uri": "https://localhost:8080/"
        },
        "id": "bp4SXPVg9kXx",
        "outputId": "ce813fac-9a0e-42da-a3a6-7ec6f7ad2b73"
      },
      "execution_count": null,
      "outputs": [
        {
          "output_type": "stream",
          "name": "stdout",
          "text": [
            "This list has 8 elements.\n",
            "Got this data: egg\n",
            "Got this data: ham\n",
            "Got this data: spam\n",
            "Got this data: foo\n",
            "Got this data: Quux\n",
            "Got this data: bim\n",
            "Got this data: baz\n",
            "Got this data: quux\n"
          ]
        }
      ]
    },
    {
      "cell_type": "code",
      "source": [
        "if words.search('foo'):\n",
        "    print(\"Found foo in the list.\")\n",
        "else:\n",
        "    print(\"foo not in the list\")\n",
        "\n",
        "if words.search('amiga'):\n",
        "    print(\"Found amiga in the list.\")\n",
        "else:\n",
        "    print(\"amiga not in the list\")"
      ],
      "metadata": {
        "colab": {
          "base_uri": "https://localhost:8080/"
        },
        "id": "qRZeeE8d_XXk",
        "outputId": "ed42060f-1dee-4d00-c979-6d988693eb50"
      },
      "execution_count": null,
      "outputs": [
        {
          "output_type": "stream",
          "name": "stdout",
          "text": [
            "Found foo in the list.\n",
            "amiga not in the list\n"
          ]
        }
      ]
    },
    {
      "cell_type": "code",
      "source": [
        "print(\"Now we try to delete an item\")\n",
        "words.delete('bim')\n",
        "print(\"List now has {} elements\".format(words.count))\n",
        "for word in words.iter():\n",
        "    print(\"data: {}\".format(word))"
      ],
      "metadata": {
        "colab": {
          "base_uri": "https://localhost:8080/"
        },
        "id": "RT9jSJNr_YbT",
        "outputId": "a1514c84-d207-4429-b3d0-a6c9a6d90965"
      },
      "execution_count": null,
      "outputs": [
        {
          "output_type": "stream",
          "name": "stdout",
          "text": [
            "Now we try to delete an item\n",
            "List now has 7 elements\n",
            "data: egg\n",
            "data: ham\n",
            "data: spam\n",
            "data: foo\n",
            "data: Quux\n",
            "data: baz\n",
            "data: quux\n"
          ]
        }
      ]
    },
    {
      "cell_type": "code",
      "source": [
        "print(\"delete the first item in the list\")\n",
        "words.delete(words[0])\n",
        "print(\"size: {}\".format(words.count))\n",
        "for word in words.iter():\n",
        "    print(\"data: {}\".format(word))"
      ],
      "metadata": {
        "colab": {
          "base_uri": "https://localhost:8080/"
        },
        "id": "mt7RSU1d_fyI",
        "outputId": "356ab382-18f3-47e7-9c25-fa37e4882e5e"
      },
      "execution_count": null,
      "outputs": [
        {
          "output_type": "stream",
          "name": "stdout",
          "text": [
            "delete the first item in the list\n",
            "size: 6\n",
            "data: ham\n",
            "data: spam\n",
            "data: foo\n",
            "data: Quux\n",
            "data: baz\n",
            "data: quux\n"
          ]
        }
      ]
    },
    {
      "cell_type": "code",
      "source": [
        "print(\"delete the last item in the list\")\n",
        "words.delete(words[words.count-1])\n",
        "print(\"size: {}\".format(words.count))\n",
        "for word in words.iter():\n",
        "    print(\"data: {}\".format(word))"
      ],
      "metadata": {
        "colab": {
          "base_uri": "https://localhost:8080/"
        },
        "id": "8fzwfgoS_yP0",
        "outputId": "87299bab-a7cb-4a49-e47c-f519eb3b46e6"
      },
      "execution_count": null,
      "outputs": [
        {
          "output_type": "stream",
          "name": "stdout",
          "text": [
            "delete the last item in the list\n",
            "size: 5\n",
            "data: ham\n",
            "data: spam\n",
            "data: foo\n",
            "data: Quux\n",
            "data: baz\n"
          ]
        }
      ]
    },
    {
      "cell_type": "markdown",
      "source": [
        "### Doubly linked lists\n",
        "\n",
        "Doubly linked lists have two pointers—a pointer to the next node and a pointer to the previous node."
      ],
      "metadata": {
        "id": "p5D7jDGudcei"
      }
    },
    {
      "cell_type": "code",
      "source": [
        "class Node(object):\n",
        "    \"\"\" A Doubly-linked lists' node. \"\"\"\n",
        "    def __init__(self, data=None, next=None, prev=None):\n",
        "        self.data = data\n",
        "        self.next = next\n",
        "        self.prev = prev"
      ],
      "metadata": {
        "id": "bFFyXY4RdiKo"
      },
      "execution_count": null,
      "outputs": []
    },
    {
      "cell_type": "code",
      "source": [
        "class DoublyLinkedList(object):\n",
        "    def __init__(self):\n",
        "        self.head = None\n",
        "        self.tail = None\n",
        "        self.count = 0\n",
        "\n",
        "    def append(self, data):\n",
        "        \"\"\" Append an item to the list. \"\"\"\n",
        "\n",
        "        new_node = Node(data, None, None)\n",
        "        if self.head is None:\n",
        "            self.head = new_node\n",
        "            self.tail = self.head\n",
        "        else:\n",
        "            new_node.prev = self.tail\n",
        "            self.tail.next = new_node\n",
        "            self.tail = new_node\n",
        "\n",
        "        self.count += 1\n",
        "\n",
        "    def iter(self):\n",
        "        \"\"\" Iterate through the list. \"\"\"\n",
        "        current = self.head #note subtle change\n",
        "        while current:\n",
        "            val = current.data\n",
        "            current = current.next\n",
        "            yield val\n",
        "\n",
        "    def reverse_iter(self):\n",
        "        \"\"\" Iterate backwards through the list. \"\"\"\n",
        "        current = self.tail\n",
        "        while current:\n",
        "            val = current.data\n",
        "            current = current.prev\n",
        "            yield val\n",
        "\n",
        "    def delete(self, data):\n",
        "        \"\"\" Delete a node from the list. \"\"\"\n",
        "        current = self.head\n",
        "        node_deleted = False\n",
        "        if current is None:\n",
        "            node_deleted = False\n",
        "\n",
        "        elif current.data == data:\n",
        "            self.head = current.next\n",
        "            self.head.prev = None\n",
        "            node_deleted = True\n",
        "\n",
        "        elif self.tail.data == data:\n",
        "            self.tail = self.tail.prev\n",
        "            self.tail.next = None\n",
        "            node_deleted = True\n",
        "\n",
        "        else:\n",
        "            while current:\n",
        "                if current.data == data:\n",
        "                    current.prev.next = current.next\n",
        "                    current.next.prev = current.prev\n",
        "                    node_deleted = True\n",
        "                current = current.next\n",
        "\n",
        "        if node_deleted:\n",
        "            self.count -= 1\n",
        "\n",
        "    def search(self, data):\n",
        "        \"\"\"Search through the list. Return True if data is found, otherwise False.\"\"\"\n",
        "        for node in self.iter():\n",
        "            if data == node:\n",
        "                return True\n",
        "        return False\n",
        "\n",
        "    def print_foward(self):\n",
        "        \"\"\" Print nodes in list from first node inserted to the last . \"\"\"\n",
        "        for node in self.iter():\n",
        "            print(node)\n",
        "\n",
        "    def print_backward(self):\n",
        "        \"\"\" Print nodes in list from latest to first node. \"\"\"\n",
        "        current = self.tail\n",
        "        while current:\n",
        "            print(current.data)\n",
        "            current = current.prev\n",
        "\n",
        "    def insert_head(self, data):\n",
        "        \"\"\" Insert new node at the head of linked list. \"\"\"\n",
        "\n",
        "        if self.head is not None:\n",
        "            new_node = Node(data, None, None)\n",
        "            new_node.next = self.head\n",
        "            self.head.prev = new_node\n",
        "            self.head = new_node\n",
        "            self.count += 1\n",
        "\n",
        "    def reverse(self):\n",
        "        \"\"\" Reverse linked list. \"\"\"\n",
        "        current = self.head\n",
        "        while current:\n",
        "            temp = current.next\n",
        "            current.next = current.prev\n",
        "            current.prev = temp\n",
        "            current = current.prev\n",
        "\n",
        "        # Now reverse the order of head and tail\n",
        "        temp = self.head\n",
        "        self.head = self.tail\n",
        "        self.tail = temp\n",
        "\n",
        "    def __getitem__(self, index):\n",
        "        if index > self.count - 1:\n",
        "            raise Exception(\"Index out of range.\")\n",
        "        current = self.head # Note subtle change\n",
        "        for n in range(index):\n",
        "            current = current.next\n",
        "        return current.data\n",
        "\n",
        "    def __setitem__(self, index, value):\n",
        "        if index > self.count - 1:\n",
        "            raise Exception(\"Index out of range.\")\n",
        "        current = self.head # Note subtle change\n",
        "        for n in range(index):\n",
        "            current = current.next\n",
        "        current.data = value"
      ],
      "metadata": {
        "id": "rfarkTO5erJj"
      },
      "execution_count": null,
      "outputs": []
    },
    {
      "cell_type": "code",
      "source": [
        "dll = DoublyLinkedList()\n",
        "dll.append(\"foo\")\n",
        "dll.append(\"bar\")\n",
        "dll.append(\"biz\")\n",
        "dll.append(\"whew\")\n",
        "dll.append('egg')\n",
        "dll.append('ham')\n",
        "dll.append('spam')"
      ],
      "metadata": {
        "id": "eMDdaPlBf2EF"
      },
      "execution_count": null,
      "outputs": []
    },
    {
      "cell_type": "code",
      "source": [
        "print(\"Items in List : \")\n",
        "dll.print_foward()"
      ],
      "metadata": {
        "colab": {
          "base_uri": "https://localhost:8080/"
        },
        "id": "ww0vceOVjtOJ",
        "outputId": "edccc4a4-b74d-46b0-8074-48da4eadc527"
      },
      "execution_count": null,
      "outputs": [
        {
          "output_type": "stream",
          "name": "stdout",
          "text": [
            "Items in List : \n",
            "foo\n",
            "bar\n",
            "biz\n",
            "whew\n",
            "egg\n",
            "ham\n",
            "spam\n"
          ]
        }
      ]
    },
    {
      "cell_type": "code",
      "source": [
        "current = dll.head\n",
        "while current:\n",
        "    print(current.data)\n",
        "    current = current.next"
      ],
      "metadata": {
        "colab": {
          "base_uri": "https://localhost:8080/"
        },
        "id": "uwQZrqDUj_Jw",
        "outputId": "d174e397-baa8-4c44-917d-87283f4ce84e"
      },
      "execution_count": null,
      "outputs": [
        {
          "output_type": "stream",
          "name": "stdout",
          "text": [
            "foo\n",
            "bar\n",
            "biz\n",
            "whew\n",
            "egg\n",
            "ham\n",
            "spam\n"
          ]
        }
      ]
    },
    {
      "cell_type": "code",
      "source": [
        "print(\"Deleting node with data whew\")\n",
        "dll.delete(\"whew\")"
      ],
      "metadata": {
        "colab": {
          "base_uri": "https://localhost:8080/"
        },
        "id": "nhdbVU-nkHXl",
        "outputId": "ebaa2afb-d048-4d02-c004-21b3fc8d677d"
      },
      "execution_count": null,
      "outputs": [
        {
          "output_type": "stream",
          "name": "stdout",
          "text": [
            "Deleting node with data whew\n"
          ]
        }
      ]
    },
    {
      "cell_type": "code",
      "source": [
        "print(\"List count: {}\".format(dll.count))\n",
        "print(\"Print list backwards\")\n",
        "dll.print_backward()"
      ],
      "metadata": {
        "colab": {
          "base_uri": "https://localhost:8080/"
        },
        "id": "T_zWopz2kY1w",
        "outputId": "cadbb2e7-2640-4c91-8e60-3d75c3bc8ccd"
      },
      "execution_count": null,
      "outputs": [
        {
          "output_type": "stream",
          "name": "stdout",
          "text": [
            "List count: 6\n",
            "Print list backwards\n",
            "spam\n",
            "ham\n",
            "egg\n",
            "biz\n",
            "bar\n",
            "foo\n"
          ]
        }
      ]
    },
    {
      "cell_type": "code",
      "source": [
        "print(\"Reverse list \")\n",
        "dll.reverse()\n",
        "dll.print_foward()"
      ],
      "metadata": {
        "colab": {
          "base_uri": "https://localhost:8080/"
        },
        "id": "XKwOFQcHlWEK",
        "outputId": "926ddd75-1e83-4208-b92f-a53d978c9a3b"
      },
      "execution_count": null,
      "outputs": [
        {
          "output_type": "stream",
          "name": "stdout",
          "text": [
            "Reverse list \n",
            "spam\n",
            "ham\n",
            "egg\n",
            "biz\n",
            "bar\n",
            "foo\n"
          ]
        }
      ]
    },
    {
      "cell_type": "code",
      "source": [
        "print(\"Append item to front of list\")\n",
        "dll.insert_head(55)\n",
        "dll.print_foward()\n",
        "\n",
        "print(\"Get First element: {}\".format(dll[0]))"
      ],
      "metadata": {
        "colab": {
          "base_uri": "https://localhost:8080/"
        },
        "id": "s_8OoYqRldAH",
        "outputId": "b8dd3f49-9063-446b-b91e-11b4452d5472"
      },
      "execution_count": null,
      "outputs": [
        {
          "output_type": "stream",
          "name": "stdout",
          "text": [
            "Append item to front of list\n",
            "55\n",
            "spam\n",
            "ham\n",
            "egg\n",
            "biz\n",
            "bar\n",
            "foo\n",
            "Get First element: 55\n"
          ]
        }
      ]
    },
    {
      "cell_type": "markdown",
      "source": [
        "### Circular linked list\n",
        "\n",
        "Circular linked list the endpoints are connected, which means that the last node in the list points back to the first node."
      ],
      "metadata": {
        "id": "usKNqEbYoEUx"
      }
    },
    {
      "cell_type": "code",
      "source": [
        "class Node:\n",
        "    def __init__(self, data=None):\n",
        "        self.data = data\n",
        "        self.next = None"
      ],
      "metadata": {
        "id": "ul5myl5hlyTZ"
      },
      "execution_count": null,
      "outputs": []
    },
    {
      "cell_type": "code",
      "source": [
        "class CircularList:\n",
        "    def __init__(self, data=None):\n",
        "        self.head = None\n",
        "        self.tail = None\n",
        "        self.size = 0\n",
        "\n",
        "    def clear(self):\n",
        "        self.tail = None\n",
        "        self.head = None\n",
        "\n",
        "    def append(self, data):\n",
        "        node = Node(data)\n",
        "        if self.head:\n",
        "            self.head.next = node\n",
        "            self.head = node\n",
        "        else:\n",
        "            self.head = node\n",
        "            self.tail = node\n",
        "        self.head.next = self.tail\n",
        "        self.size += 1\n",
        "\n",
        "    def delete(self, data):\n",
        "        current = self.tail\n",
        "        prev = self.tail\n",
        "        while prev == current or prev != self.head:\n",
        "            if current.data == data:\n",
        "                if current == self.tail:\n",
        "                    self.tail = current.next\n",
        "                    self.head.next = self.tail\n",
        "                else:\n",
        "                    prev.next = current.next\n",
        "                self.size -= 1\n",
        "                return\n",
        "            prev = current\n",
        "            current = current.next\n",
        "\n",
        "    def iter(self):\n",
        "        current = self.tail\n",
        "        while current:\n",
        "            val = current.data\n",
        "            current = current.next\n",
        "            yield val"
      ],
      "metadata": {
        "id": "j-K494_fqIOu"
      },
      "execution_count": null,
      "outputs": []
    },
    {
      "cell_type": "code",
      "source": [
        "cll = CircularList()\n",
        "cll.append('eggs')\n",
        "cll.append('ham')\n",
        "cll.append('spam')"
      ],
      "metadata": {
        "id": "ktLqgL1YqY3k"
      },
      "execution_count": null,
      "outputs": []
    },
    {
      "cell_type": "code",
      "source": [
        "counter = 0\n",
        "for word in cll.iter():\n",
        "    print(word)\n",
        "    counter += 1\n",
        "    if counter > 10:\n",
        "        break"
      ],
      "metadata": {
        "colab": {
          "base_uri": "https://localhost:8080/"
        },
        "id": "HISRy-7rrhnS",
        "outputId": "6fcb85c8-8be9-4e5d-c06e-a6ac04e2ed8f"
      },
      "execution_count": null,
      "outputs": [
        {
          "output_type": "stream",
          "name": "stdout",
          "text": [
            "eggs\n",
            "ham\n",
            "spam\n",
            "eggs\n",
            "ham\n",
            "spam\n",
            "eggs\n",
            "ham\n",
            "spam\n",
            "eggs\n",
            "ham\n"
          ]
        }
      ]
    },
    {
      "cell_type": "code",
      "source": [
        "cll.append('foo')\n",
        "cll.append('boo')"
      ],
      "metadata": {
        "id": "5oYtXUHLr0U-"
      },
      "execution_count": null,
      "outputs": []
    },
    {
      "cell_type": "code",
      "source": [
        "print(\"Delelete something that is there.\")\n",
        "cll.delete('foo')"
      ],
      "metadata": {
        "colab": {
          "base_uri": "https://localhost:8080/"
        },
        "id": "SfpIEYmErme0",
        "outputId": "559b26b9-6b5e-45cf-b2e0-18e5edd28813"
      },
      "execution_count": null,
      "outputs": [
        {
          "output_type": "stream",
          "name": "stdout",
          "text": [
            "Delelete something that is there.\n"
          ]
        }
      ]
    },
    {
      "cell_type": "code",
      "source": [
        "counter = 0\n",
        "for item in cll.iter():\n",
        "    print(item)\n",
        "    counter += 1\n",
        "    if counter > 10:\n",
        "        break"
      ],
      "metadata": {
        "colab": {
          "base_uri": "https://localhost:8080/"
        },
        "id": "Q70A7a78stmW",
        "outputId": "420175e5-b428-4c6d-e916-6b1040ff0fbe"
      },
      "execution_count": null,
      "outputs": [
        {
          "output_type": "stream",
          "name": "stdout",
          "text": [
            "eggs\n",
            "ham\n",
            "spam\n",
            "boo\n",
            "eggs\n",
            "ham\n",
            "spam\n",
            "boo\n",
            "eggs\n",
            "ham\n",
            "spam\n"
          ]
        }
      ]
    },
    {
      "cell_type": "code",
      "source": [
        "print(\"Delete something that isn't there.\")\n",
        "print(cll.delete('socks'))"
      ],
      "metadata": {
        "colab": {
          "base_uri": "https://localhost:8080/"
        },
        "id": "th2nw5Qnr6G4",
        "outputId": "3c275852-994e-47a2-d61b-501a51fad157"
      },
      "execution_count": null,
      "outputs": [
        {
          "output_type": "stream",
          "name": "stdout",
          "text": [
            "Delete something that isn't there.\n",
            "None\n"
          ]
        }
      ]
    },
    {
      "cell_type": "code",
      "source": [
        "counter = 0\n",
        "for item in cll.iter():\n",
        "    print(item)\n",
        "    counter += 1\n",
        "    if counter > 10:\n",
        "        break"
      ],
      "metadata": {
        "colab": {
          "base_uri": "https://localhost:8080/"
        },
        "id": "9Jjx-tClsYfI",
        "outputId": "dc861199-ff02-4874-c3a7-309322e053b0"
      },
      "execution_count": null,
      "outputs": [
        {
          "output_type": "stream",
          "name": "stdout",
          "text": [
            "eggs\n",
            "ham\n",
            "spam\n",
            "boo\n",
            "eggs\n",
            "ham\n",
            "spam\n",
            "boo\n",
            "eggs\n",
            "ham\n",
            "spam\n"
          ]
        }
      ]
    }
  ]
}